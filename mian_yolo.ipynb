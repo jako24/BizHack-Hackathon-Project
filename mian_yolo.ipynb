{
 "cells": [
  {
   "cell_type": "code",
   "execution_count": 1,
   "metadata": {},
   "outputs": [
    {
     "name": "stdout",
     "output_type": "stream",
     "text": [
      "loading Roboflow workspace...\n",
      "loading Roboflow project...\n"
     ]
    }
   ],
   "source": [
    "from roboflow import Roboflow\n",
    "rf = Roboflow(api_key=\"vk7D7FyOEOnxeUELRcfx\")\n",
    "project = rf.workspace(\"railway-track-kwxud\").project(\"nrcan-final-water-fix\")\n",
    "version = project.version(18)\n",
    "dataset = version.download(\"yolov5\")"
   ]
  },
  {
   "cell_type": "code",
   "execution_count": 3,
   "metadata": {},
   "outputs": [],
   "source": [
    "import os\n",
    "import shutil\n",
    "import random\n",
    "\n",
    "def split_dataset(source_dir, dest_dir, split_ratio=0.18):\n",
    "    # Create directories if they don't exist\n",
    "    for subdir in ['train/images', 'train/labels', 'valid/images', 'valid/labels']:\n",
    "        os.makedirs(os.path.join(dest_dir, subdir), exist_ok=True)\n",
    "\n",
    "    # List all image files in the source directory\n",
    "    image_files = [f for f in os.listdir(os.path.join(source_dir, 'train', 'images')) if f.endswith('.jpg')]\n",
    "    total_files = len(image_files)\n",
    "    num_split = int(total_files * split_ratio)\n",
    "\n",
    "    # Randomly select files\n",
    "    random.shuffle(image_files)\n",
    "    selected_files = image_files[:num_split]\n",
    "\n",
    "    # Copy selected files to the destination directory\n",
    "    for image_file in selected_files:\n",
    "        label_file = image_file.replace('.jpg', '.txt')\n",
    "        shutil.copy(os.path.join(source_dir, 'train', 'images', image_file), os.path.join(dest_dir, 'train', 'images', image_file))\n",
    "        shutil.copy(os.path.join(source_dir, 'train', 'labels', label_file), os.path.join(dest_dir, 'train', 'labels', label_file))\n",
    "\n",
    "    # Split the remaining files into validation set\n",
    "    remaining_files = image_files[num_split:]\n",
    "    for image_file in remaining_files:\n",
    "        label_file = image_file.replace('.jpg', '.txt')\n",
    "        shutil.copy(os.path.join(source_dir, 'train', 'images', image_file), os.path.join(dest_dir, 'valid', 'images', image_file))\n",
    "        shutil.copy(os.path.join(source_dir, 'train', 'labels', label_file), os.path.join(dest_dir, 'valid', 'labels', label_file))\n",
    "\n",
    "source_dir = 'NRCan-final-water-fix-18'  # path to the downloaded dataset\n",
    "dest_dir = 'NR18Can-final-water-fix-1818'  # path to the new dataset with 18% split\n",
    "split_dataset(source_dir, dest_dir, split_ratio=0.10)\n"
   ]
  },
  {
   "cell_type": "code",
   "execution_count": 6,
   "metadata": {},
   "outputs": [
    {
     "name": "stdout",
     "output_type": "stream",
     "text": [
      "Collecting pickleshare\n",
      "  Downloading pickleshare-0.7.5-py2.py3-none-any.whl.metadata (1.5 kB)\n",
      "Downloading pickleshare-0.7.5-py2.py3-none-any.whl (6.9 kB)\n",
      "Installing collected packages: pickleshare\n",
      "Successfully installed pickleshare-0.7.5\n"
     ]
    }
   ],
   "source": [
    "!pip3 install pickleshare"
   ]
  },
  {
   "cell_type": "code",
   "execution_count": 11,
   "metadata": {},
   "outputs": [
    {
     "name": "stdout",
     "output_type": "stream",
     "text": [
      "/Users/janekkorczynski/Desktop/BizHack/yolov5\n",
      "\u001b[34m\u001b[1mtrain: \u001b[0mweights=yolov5s.pt, cfg=, data=/Users/janekkorczynski/Desktop/BizHack/yolov5/railway.yaml, hyp=data/hyps/hyp.scratch-low.yaml, epochs=5, batch_size=8, imgsz=416, rect=False, resume=False, nosave=False, noval=False, noautoanchor=False, noplots=False, evolve=None, evolve_population=data/hyps, resume_evolve=None, bucket=, cache=ram, image_weights=False, device=, multi_scale=False, single_cls=False, optimizer=SGD, sync_bn=False, workers=8, project=runs/train, name=exp, exist_ok=False, quad=False, cos_lr=False, label_smoothing=0.0, patience=100, freeze=[0], save_period=-1, seed=0, local_rank=-1, entity=None, upload_dataset=False, bbox_interval=-1, artifact_alias=latest, ndjson_console=False, ndjson_file=False\n",
      "\u001b[34m\u001b[1mgithub: \u001b[0mup to date with https://github.com/ultralytics/yolov5 ✅\n",
      "YOLOv5 🚀 v7.0-347-gd6112173 Python-3.9.18 torch-2.3.1 CPU\n",
      "\n",
      "\u001b[34m\u001b[1mhyperparameters: \u001b[0mlr0=0.01, lrf=0.01, momentum=0.937, weight_decay=0.0005, warmup_epochs=3.0, warmup_momentum=0.8, warmup_bias_lr=0.1, box=0.05, cls=0.5, cls_pw=1.0, obj=1.0, obj_pw=1.0, iou_t=0.2, anchor_t=4.0, fl_gamma=0.0, hsv_h=0.015, hsv_s=0.7, hsv_v=0.4, degrees=0.0, translate=0.1, scale=0.5, shear=0.0, perspective=0.0, flipud=0.0, fliplr=0.5, mosaic=1.0, mixup=0.0, copy_paste=0.0\n",
      "\u001b[34m\u001b[1mComet: \u001b[0mrun 'pip install comet_ml' to automatically track and visualize YOLOv5 🚀 runs in Comet\n",
      "\u001b[34m\u001b[1mTensorBoard: \u001b[0mStart with 'tensorboard --logdir runs/train', view at http://localhost:6006/\n",
      "Downloading https://github.com/ultralytics/yolov5/releases/download/v7.0/yolov5s.pt to yolov5s.pt...\n",
      "100%|██████████████████████████████████████| 14.1M/14.1M [00:00<00:00, 16.4MB/s]\n",
      "\n",
      "Overriding model.yaml nc=80 with nc=7\n",
      "\n",
      "                 from  n    params  module                                  arguments                     \n",
      "  0                -1  1      3520  models.common.Conv                      [3, 32, 6, 2, 2]              \n",
      "  1                -1  1     18560  models.common.Conv                      [32, 64, 3, 2]                \n",
      "  2                -1  1     18816  models.common.C3                        [64, 64, 1]                   \n",
      "  3                -1  1     73984  models.common.Conv                      [64, 128, 3, 2]               \n",
      "  4                -1  2    115712  models.common.C3                        [128, 128, 2]                 \n",
      "  5                -1  1    295424  models.common.Conv                      [128, 256, 3, 2]              \n",
      "  6                -1  3    625152  models.common.C3                        [256, 256, 3]                 \n",
      "  7                -1  1   1180672  models.common.Conv                      [256, 512, 3, 2]              \n",
      "  8                -1  1   1182720  models.common.C3                        [512, 512, 1]                 \n",
      "  9                -1  1    656896  models.common.SPPF                      [512, 512, 5]                 \n",
      " 10                -1  1    131584  models.common.Conv                      [512, 256, 1, 1]              \n",
      " 11                -1  1         0  torch.nn.modules.upsampling.Upsample    [None, 2, 'nearest']          \n",
      " 12           [-1, 6]  1         0  models.common.Concat                    [1]                           \n",
      " 13                -1  1    361984  models.common.C3                        [512, 256, 1, False]          \n",
      " 14                -1  1     33024  models.common.Conv                      [256, 128, 1, 1]              \n",
      " 15                -1  1         0  torch.nn.modules.upsampling.Upsample    [None, 2, 'nearest']          \n",
      " 16           [-1, 4]  1         0  models.common.Concat                    [1]                           \n",
      " 17                -1  1     90880  models.common.C3                        [256, 128, 1, False]          \n",
      " 18                -1  1    147712  models.common.Conv                      [128, 128, 3, 2]              \n",
      " 19          [-1, 14]  1         0  models.common.Concat                    [1]                           \n",
      " 20                -1  1    296448  models.common.C3                        [256, 256, 1, False]          \n",
      " 21                -1  1    590336  models.common.Conv                      [256, 256, 3, 2]              \n",
      " 22          [-1, 10]  1         0  models.common.Concat                    [1]                           \n",
      " 23                -1  1   1182720  models.common.C3                        [512, 512, 1, False]          \n",
      " 24      [17, 20, 23]  1     32364  models.yolo.Detect                      [7, [[10, 13, 16, 30, 33, 23], [30, 61, 62, 45, 59, 119], [116, 90, 156, 198, 373, 326]], [128, 256, 512]]\n",
      "Model summary: 214 layers, 7038508 parameters, 7038508 gradients, 16.0 GFLOPs\n",
      "\n",
      "Transferred 343/349 items from yolov5s.pt\n",
      "\u001b[34m\u001b[1moptimizer:\u001b[0m SGD(lr=0.01) with parameter groups 57 weight(decay=0.0), 60 weight(decay=0.0005), 60 bias\n",
      "\u001b[34m\u001b[1mtrain: \u001b[0mScanning /Users/janekkorczynski/Desktop/BizHack/yolov5/NRCan-final-water-\u001b[0m\n",
      "\u001b[34m\u001b[1mtrain: \u001b[0mCaching images (0.3GB ram): 100%|██████████| 528/528 [00:00<00:00, 2506.1\u001b[0m\n",
      "\u001b[34m\u001b[1mval: \u001b[0mScanning /Users/janekkorczynski/Desktop/BizHack/yolov5/NRCan-final-water-fi\u001b[0m\n",
      "\u001b[34m\u001b[1mval: \u001b[0mCaching images (1.2GB ram): 100%|██████████| 2408/2408 [00:02<00:00, 1099.2\u001b[0m\n",
      "\n",
      "\u001b[34m\u001b[1mAutoAnchor: \u001b[0m4.57 anchors/target, 0.991 Best Possible Recall (BPR). Current anchors are a good fit to dataset ✅\n",
      "Plotting labels to runs/train/exp5/labels.jpg... \n",
      "Image sizes 416 train, 416 val\n",
      "Using 8 dataloader workers\n",
      "Logging results to \u001b[1mruns/train/exp5\u001b[0m\n",
      "Starting training for 5 epochs...\n",
      "\n",
      "      Epoch    GPU_mem   box_loss   obj_loss   cls_loss  Instances       Size\n",
      "        0/4         0G     0.1158    0.02098    0.05738         28        416: 1\n",
      "                 Class     Images  Instances          P          R      mAP50   \n",
      "                   all       2408       6058   0.000987     0.0946   0.000709   0.000165\n",
      "\n",
      "      Epoch    GPU_mem   box_loss   obj_loss   cls_loss  Instances       Size\n",
      "        1/4         0G    0.09909    0.02486      0.042         18        416: 1\n",
      "                 Class     Images  Instances          P          R      mAP50   \n",
      "                   all       2408       6058    0.00316      0.277      0.006    0.00135\n",
      "\n",
      "      Epoch    GPU_mem   box_loss   obj_loss   cls_loss  Instances       Size\n",
      "        2/4         0G    0.09077    0.02774    0.02736         30        416: 1\n",
      "                 Class     Images  Instances          P          R      mAP50   \n",
      "                   all       2408       6058     0.0392      0.136     0.0131    0.00337\n",
      "\n",
      "      Epoch    GPU_mem   box_loss   obj_loss   cls_loss  Instances       Size\n",
      "        3/4         0G    0.08522    0.02847    0.02326         50        416: 1\n",
      "                 Class     Images  Instances          P          R      mAP50   \n",
      "                   all       2408       6058      0.765      0.074     0.0251    0.00627\n",
      "\n",
      "      Epoch    GPU_mem   box_loss   obj_loss   cls_loss  Instances       Size\n",
      "        4/4         0G    0.07835    0.02721    0.02067         13        416: 1\n",
      "                 Class     Images  Instances          P          R      mAP50   \n",
      "                   all       2408       6058      0.769     0.0772     0.0288    0.00867\n",
      "\n",
      "5 epochs completed in 0.700 hours.\n",
      "Optimizer stripped from runs/train/exp5/weights/last.pt, 14.4MB\n",
      "Optimizer stripped from runs/train/exp5/weights/best.pt, 14.4MB\n",
      "\n",
      "Validating runs/train/exp5/weights/best.pt...\n",
      "Fusing layers... \n",
      "Model summary: 157 layers, 7029004 parameters, 0 gradients, 15.8 GFLOPs\n",
      "                 Class     Images  Instances          P          R      mAP50   \n",
      "                   all       2408       6058      0.769     0.0771     0.0288    0.00868\n",
      "            Broken Tie       2408        720          1          0     0.0266    0.00939\n",
      "           Missing Tie       2408       1178          1          0     0.0134     0.0053\n",
      "                  null       2408       1539          1          0     0.0105     0.0028\n",
      "                 Trees       2408       2621     0.0758      0.308     0.0646     0.0172\n",
      "Results saved to \u001b[1mruns/train/exp5\u001b[0m\n"
     ]
    }
   ],
   "source": [
    "# Navigate to the YOLOv5 directory\n",
    "%cd /Users/janekkorczynski/Desktop/BizHack/yolov5\n",
    "\n",
    "# Train the model with your dataset\n",
    "!python train.py --img 416 --batch 8 --epochs 5 --data /Users/janekkorczynski/Desktop/BizHack/yolov5/railway.yaml --weights yolov5s.pt --cache"
   ]
  }
 ],
 "metadata": {
  "kernelspec": {
   "display_name": "Python 3",
   "language": "python",
   "name": "python3"
  },
  "language_info": {
   "codemirror_mode": {
    "name": "ipython",
    "version": 3
   },
   "file_extension": ".py",
   "mimetype": "text/x-python",
   "name": "python",
   "nbconvert_exporter": "python",
   "pygments_lexer": "ipython3",
   "version": "3.9.18"
  }
 },
 "nbformat": 4,
 "nbformat_minor": 2
}
